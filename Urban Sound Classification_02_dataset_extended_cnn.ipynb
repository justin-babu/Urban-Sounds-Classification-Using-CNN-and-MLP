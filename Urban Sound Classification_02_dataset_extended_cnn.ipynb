{
 "cells": [
  {
   "cell_type": "markdown",
   "source": [
    "# Adding features to the dataset\n",
    "After testing performances with 132 features, 15 new features are added, selecting: \n",
    "- min\n",
    "- max\n",
    "- mean\n",
    "- median\n",
    "- standard deviation\n",
    "\n",
    "From the new features: \n",
    "- zero crossing rate\n",
    "- rolloff\n",
    "- onset strenght\n",
    "\n",
    "I use the same class, where the get_feature methods has been changed.\n",
    "Scaling is also applied, as it yielded better results in previous experiments. \n",
    "\n",
    "The extraction time went from about 26s per fold to 52s per fold.\n",
    "The approach, and the code, is the same used in the dataset notebook.\n",
    "\n",
    "## PCA\n",
    "\n",
    "I also tried with PCA to check if this leads to better scores, \n",
    "I selected the number of features that exploit 0.99 variance."
   ],
   "metadata": {}
  },
  {
   "cell_type": "code",
   "execution_count": null,
   "source": [
    "import sys\n",
    "sys.path.append(\"..\")\n",
    "from src.data import Features\n",
    "import pandas as pd\n",
    "import numpy as np"
   ],
   "outputs": [],
   "metadata": {}
  },
  {
   "cell_type": "code",
   "execution_count": null,
   "source": [
    "f = Features(save_path=\"../data/processed/extended\",\n",
    "             save_name=\"train_scaled_extended\",\n",
    "             folds=[1, 2, 3, 4, 6])\n",
    "\n",
    "training_dataframe = f.get_dataframe()"
   ],
   "outputs": [],
   "metadata": {}
  },
  {
   "cell_type": "code",
   "execution_count": null,
   "source": [
    "training_dataframe"
   ],
   "outputs": [],
   "metadata": {}
  },
  {
   "cell_type": "markdown",
   "source": [
    "The following code applies scaling and pca to the dataset. \n",
    "The two trained models are saved to reapply them to the test sets."
   ],
   "metadata": {}
  },
  {
   "cell_type": "code",
   "execution_count": null,
   "source": [
    "scaled_df = f.scale_dataframe(training_dataframe,\n",
    "                              save_path=\"../models/scalers/scaler_training_extended.pkl\", \n",
    "                              save_scaler=True)\n",
    "\n",
    "f.save_dataframe(scaled_df, save_name=\"train_extended\")\n",
    "\n",
    "reduced_df = f.select_features(scaled_df, \n",
    "                               n=0.99, \n",
    "                               save_pca=True)\n",
    "f.save_dataframe(reduced_df, save_name=\"train_pca\")\n",
    "\n",
    "reduced_df"
   ],
   "outputs": [],
   "metadata": {}
  },
  {
   "cell_type": "markdown",
   "source": [
    "Scaling and pca is applied to the test sets and saved."
   ],
   "metadata": {}
  },
  {
   "cell_type": "code",
   "execution_count": null,
   "source": [
    "for fold in [5, 7, 8, 9, 10]:\n",
    "    print(f\"Processing fold {fold}\")\n",
    "    \n",
    "    f = Features(save_path=\"../data/processed/extended\",\n",
    "                 save_name=f\"test_{fold}_extended\",\n",
    "                 folds=[fold])\n",
    "    \n",
    "    df = f.get_dataframe()\n",
    "    \n",
    "    scaled = f.apply_scaling(df, \"../models/scalers/scaler_training_extended.pkl\")\n",
    "    f.save_dataframe(scaled, save_name=f\"test_{fold}_extended\")\n",
    "    \n",
    "    reduced = f.apply_pca(scaled, \"../models/pca/pca_training.pkl\")\n",
    "    f.save_dataframe(reduced, save_name=f\"test_{fold}_pca\")"
   ],
   "outputs": [],
   "metadata": {}
  },
  {
   "cell_type": "markdown",
   "source": [
    "# Extracting image training set"
   ],
   "metadata": {}
  },
  {
   "cell_type": "code",
   "execution_count": null,
   "source": [
    "f = Features(save_path=\"../data/processed/cnn\", \n",
    "             save_name=\"stft\",\n",
    "             folds=[1, 2, 3, 4, 6])\n",
    "\n",
    "features, labels = f.get_save_image_training_set()\n",
    "\n",
    "for fold in [5, 7, 8, 9, 10]:\n",
    "    print(f\"Processing fold {fold}\")\n",
    "    \n",
    "    f = Features(save_path=\"../data/processed/cnn\",\n",
    "                 save_name=f\"stft_test_{fold}\",\n",
    "                 folds=[fold])\n",
    "    f.get_save_image_training_set()"
   ],
   "outputs": [],
   "metadata": {}
  }
 ],
 "metadata": {
  "orig_nbformat": 4,
  "language_info": {
   "name": "python",
   "version": "3.8.10",
   "mimetype": "text/x-python",
   "codemirror_mode": {
    "name": "ipython",
    "version": 3
   },
   "pygments_lexer": "ipython3",
   "nbconvert_exporter": "python",
   "file_extension": ".py"
  },
  "kernelspec": {
   "name": "python3",
   "display_name": "Python 3.8.10 64-bit"
  },
  "interpreter": {
   "hash": "916dbcbb3f70747c44a77c7bcd40155683ae19c65e1c03b4aa3499c5328201f1"
  }
 },
 "nbformat": 4,
 "nbformat_minor": 2
}