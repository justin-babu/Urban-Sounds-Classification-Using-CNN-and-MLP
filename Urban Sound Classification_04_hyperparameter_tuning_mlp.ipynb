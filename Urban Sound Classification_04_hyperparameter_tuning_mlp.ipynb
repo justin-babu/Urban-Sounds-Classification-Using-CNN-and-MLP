{
 "cells": [
  {
   "cell_type": "markdown",
   "source": [
    "# Hyperparameter tuning\n",
    "\n",
    "This notebook focuses on tuning the hyperparameters of an initial network to find a better model on the training set. \n",
    "The starting point are two networks, the best performers on the training set.\n",
    "\n",
    "## Random search\n",
    "To reduce computation a random search is preferred to a complete grid search.\n",
    "A total of 100 models are tested."
   ],
   "metadata": {}
  },
  {
   "cell_type": "code",
   "execution_count": 5,
   "source": [
    "import sys\n",
    "sys.path.append(\"..\")\n",
    "from src.model import NeuralNetwork\n",
    "import numpy as np\n",
    "np.random.seed(1)\n",
    "\n",
    "def print_results(results):\n",
    "    print(\"Best: %f using %s\\n\" % (results.best_score_, results.best_params_))\n",
    "    means = results.cv_results_['mean_test_score']\n",
    "    stds = results.cv_results_['std_test_score']\n",
    "    params = results.cv_results_['params']\n",
    "    for mean, stdev, param in sorted(zip(means, stds, params), key=lambda x : -x[0])[:3]:\n",
    "        print(\"%f (%f) with: %r\" % (mean, stdev, param))\n",
    "    print(\"...\")"
   ],
   "outputs": [],
   "metadata": {}
  },
  {
   "cell_type": "code",
   "execution_count": 2,
   "source": [
    "k = 2\n",
    "neurons = [(180, 80 + i*k, 46 + j*k, 10) for i in (-2,-1,0,1,2) for j in (-2,-1,0,1,2)]\n",
    "learning_rate = [0.001, 0.01, 0.1, 0.5]\n",
    "momentum = [0.0, 0.01, 0.1, 1]\n",
    "epochs = [60, 80, 100]\n",
    "batch_size = [32, 64]\n",
    "\n",
    "param_dist = dict(neurons=neurons, \n",
    "                  learning_rate=learning_rate,\n",
    "                  momentum=momentum, \n",
    "                  epochs=epochs, \n",
    "                  batch_size=batch_size)\n",
    "\n",
    "extended_results = NeuralNetwork.optimize_model(method=\"random\", \n",
    "                                                param_grid=param_dist,\n",
    "                                                dataset_path=\"../data/processed/extended/train_extended.csv\", \n",
    "                                                iterations=100)"
   ],
   "outputs": [
    {
     "output_type": "stream",
     "name": "stdout",
     "text": [
      "Fitting 5 folds for each of 100 candidates, totalling 500 fits\n",
      "WARNING:tensorflow:From /home/fran/.local/lib/python3.8/site-packages/tensorflow/python/ops/array_ops.py:5043: calling gather (from tensorflow.python.ops.array_ops) with validate_indices is deprecated and will be removed in a future version.\n",
      "Instructions for updating:\n",
      "The `validate_indices` argument has no effect. Indices are always validated on CPU and never validated on GPU.\n"
     ]
    }
   ],
   "metadata": {}
  },
  {
   "cell_type": "code",
   "execution_count": 3,
   "source": [
    "print_results(extended_results)"
   ],
   "outputs": [
    {
     "output_type": "stream",
     "name": "stdout",
     "text": [
      "Best: 0.649682 using {'neurons': (180, 76, 50, 10), 'momentum': 0.01, 'learning_rate': 0.01, 'epochs': 80, 'batch_size': 64}\n",
      "\n",
      "0.649682 (0.043150) with: {'neurons': (180, 76, 50, 10), 'momentum': 0.01, 'learning_rate': 0.01, 'epochs': 80, 'batch_size': 64}\n",
      "0.649463 (0.039227) with: {'neurons': (180, 80, 46, 10), 'momentum': 0.0, 'learning_rate': 0.1, 'epochs': 100, 'batch_size': 32}\n",
      "0.647470 (0.034759) with: {'neurons': (180, 84, 44, 10), 'momentum': 0.1, 'learning_rate': 0.1, 'epochs': 80, 'batch_size': 32}\n",
      "...\n"
     ]
    }
   ],
   "metadata": {}
  },
  {
   "cell_type": "code",
   "execution_count": 4,
   "source": [
    "param_dist[\"neurons\"] = [(102, 45 + i*k, 30 + j*k, 10) for i in (-2,-1,0,1,2) for j in (-2,-1,0,1,2)]\n",
    "\n",
    "pca_results = NeuralNetwork.optimize_model(method=\"random\", \n",
    "                                           param_grid=param_dist,\n",
    "                                           dataset_path=\"../data/processed/extended/train_pca.csv\", \n",
    "                                           iterations=100)"
   ],
   "outputs": [
    {
     "output_type": "stream",
     "name": "stdout",
     "text": [
      "Fitting 5 folds for each of 100 candidates, totalling 500 fits\n"
     ]
    }
   ],
   "metadata": {}
  },
  {
   "cell_type": "code",
   "execution_count": 5,
   "source": [
    "print_results(pca_results)"
   ],
   "outputs": [
    {
     "output_type": "stream",
     "name": "stdout",
     "text": [
      "Best: 0.627023 using {'neurons': (102, 45, 32, 10), 'momentum': 0.01, 'learning_rate': 0.1, 'epochs': 80, 'batch_size': 32}\n",
      "\n",
      "0.627023 (0.031555) with: {'neurons': (102, 45, 32, 10), 'momentum': 0.01, 'learning_rate': 0.1, 'epochs': 80, 'batch_size': 32}\n",
      "0.626788 (0.050642) with: {'neurons': (102, 49, 28, 10), 'momentum': 0.1, 'learning_rate': 0.1, 'epochs': 80, 'batch_size': 32}\n",
      "0.626355 (0.031895) with: {'neurons': (102, 45, 28, 10), 'momentum': 0.01, 'learning_rate': 0.1, 'epochs': 100, 'batch_size': 32}\n",
      "...\n"
     ]
    }
   ],
   "metadata": {}
  },
  {
   "cell_type": "markdown",
   "source": [
    "## Final model\n",
    "The best model found is the following"
   ],
   "metadata": {}
  },
  {
   "cell_type": "code",
   "execution_count": 8,
   "source": [
    "\n",
    "\n",
    "best_param = extended_results.best_params_\n",
    "best_param"
   ],
   "outputs": [
    {
     "output_type": "execute_result",
     "data": {
      "text/plain": [
       "{'neurons': (180, 76, 50, 10),\n",
       " 'momentum': 0.01,\n",
       " 'learning_rate': 0.01,\n",
       " 'epochs': 80,\n",
       " 'batch_size': 64}"
      ]
     },
     "metadata": {},
     "execution_count": 8
    }
   ],
   "metadata": {}
  },
  {
   "cell_type": "markdown",
   "source": [
    "## Test results\n",
    "\n",
    "The final model is evaluated on the test set to determine performances."
   ],
   "metadata": {}
  },
  {
   "cell_type": "code",
   "execution_count": 9,
   "source": [
    "p = best_param\n",
    "\n",
    "model = NeuralNetwork.create_model(neurons=p[\"neurons\"],\n",
    "                                   learning_rate=p[\"learning_rate\"], \n",
    "                                   momentum=p[\"momentum\"])\n",
    "\n",
    "from src.data import Dataset\n",
    "from sklearn.utils import class_weight\n",
    "\n",
    "d = Dataset(dataset_path=\"../data/processed/extended/train_extended.csv\", \n",
    "            test_size=0)\n",
    "\n",
    "from keras.callbacks import EarlyStopping\n",
    "stopper = EarlyStopping(monitor='accuracy', patience=3, verbose=1)\n",
    "fit_params = dict(callbacks=[stopper])\n",
    "\n",
    "x, y = d.get_splits()\n",
    "class_weights = class_weight.compute_class_weight('balanced', np.unique(y), y)\n",
    "weights_dict = dict(zip(np.unique(y), class_weights))\n",
    "\n",
    "model.fit(x, y, class_weight=weights_dict, epochs=p[\"epochs\"], batch_size=p[\"batch_size\"], verbose=0, **fit_params)"
   ],
   "outputs": [
    {
     "output_type": "stream",
     "name": "stdout",
     "text": [
      "Epoch 00055: early stopping\n"
     ]
    },
    {
     "output_type": "execute_result",
     "data": {
      "text/plain": [
       "<tensorflow.python.keras.callbacks.History at 0x7f0be824e490>"
      ]
     },
     "metadata": {},
     "execution_count": 9
    }
   ],
   "metadata": {}
  },
  {
   "cell_type": "code",
   "execution_count": 10,
   "source": [
    "from src.utils import show_accuracy_loss\n",
    "\n",
    "accuracy, loss = show_accuracy_loss(model, scaling=\"extended\", test_dataset_path=\"../data/processed/extended\")"
   ],
   "outputs": [
    {
     "output_type": "stream",
     "name": "stdout",
     "text": [
      "8/8 [==============================] - 0s 2ms/step - loss: 0.8893 - accuracy: 0.7425\n",
      "7/7 [==============================] - 0s 2ms/step - loss: 1.3391 - accuracy: 0.6038\n",
      "7/7 [==============================] - 0s 2ms/step - loss: 1.6087 - accuracy: 0.6873\n",
      "7/7 [==============================] - 0s 2ms/step - loss: 1.9007 - accuracy: 0.6348\n",
      "7/7 [==============================] - 0s 2ms/step - loss: 1.2304 - accuracy: 0.6858\n",
      "\n",
      "Accuracy:\n",
      "\tMean: 0.6708542704582214 \n",
      "\tStandard deviation: 0.04780035914539101\n",
      "\n",
      "Loss:\n",
      "\tMean: 1.3936396598815919 \n",
      "\tStandard deviation: 0.3427208511953272\n"
     ]
    }
   ],
   "metadata": {}
  }
 ],
 "metadata": {
  "orig_nbformat": 4,
  "language_info": {
   "name": "python",
   "version": "3.8.10",
   "mimetype": "text/x-python",
   "codemirror_mode": {
    "name": "ipython",
    "version": 3
   },
   "pygments_lexer": "ipython3",
   "nbconvert_exporter": "python",
   "file_extension": ".py"
  },
  "kernelspec": {
   "name": "python3",
   "display_name": "Python 3.8.10 64-bit"
  },
  "interpreter": {
   "hash": "916dbcbb3f70747c44a77c7bcd40155683ae19c65e1c03b4aa3499c5328201f1"
  }
 },
 "nbformat": 4,
 "nbformat_minor": 2
}